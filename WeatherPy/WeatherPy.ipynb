{
 "cells": [
  {
   "cell_type": "markdown",
   "metadata": {},
   "source": [
    "# WeatherPy\n",
    "\n",
    "---\n",
    "\n",
    "## Starter Code to Generate Random Geographic Coordinates and a List of Cities"
   ]
  },
  {
   "cell_type": "code",
   "execution_count": 1,
   "metadata": {
    "scrolled": true
   },
   "outputs": [],
   "source": [
    "# Dependencies and Setup\n",
    "import matplotlib.pyplot as plt\n",
    "import pandas as pd\n",
    "import numpy as np\n",
    "import requests\n",
    "import time\n",
    "from scipy.stats import linregress\n",
    "from datetime import datetime\n",
    "\n",
    "# Import API key\n",
    "from api_keyw import weather_api_key\n",
    "\n",
    "# Incorporated citipy to determine city based on latitude and longitude\n",
    "from citipy import citipy\n",
    "\n",
    "# Output File (CSV)\n",
    "output_data_file = \"output_data/../cities.csv\"\n",
    "\n",
    "# Range of latitudes and longitudes\n",
    "lat_range = (-90, 90)\n",
    "lng_range = (-180, 180)"
   ]
  },
  {
   "cell_type": "markdown",
   "metadata": {},
   "source": [
    "### Generate the Cities List by Using the `citipy` Library"
   ]
  },
  {
   "cell_type": "code",
   "execution_count": 2,
   "metadata": {},
   "outputs": [
    {
     "data": {
      "text/plain": [
       "646"
      ]
     },
     "execution_count": 2,
     "metadata": {},
     "output_type": "execute_result"
    }
   ],
   "source": [
    "# List for holding lat_lngs and cities\n",
    "lat_lngs = []\n",
    "cities = []\n",
    "\n",
    "# Create a set of random lat and lng combinations\n",
    "lats = np.random.uniform(lat_range[0], lat_range[1], size=1500)\n",
    "lngs = np.random.uniform(lng_range[0], lng_range[1], size=1500)\n",
    "lat_lngs = zip(lats, lngs)\n",
    "\n",
    "# Identify nearest city for each lat, lng combination\n",
    "for lat_lng in lat_lngs:\n",
    "    city = citipy.nearest_city(lat_lng[0], lat_lng[1]).city_name\n",
    "    \n",
    "    # If the city is unique, then add it to a our cities list\n",
    "    if city not in cities:\n",
    "        cities.append(city)\n",
    "\n",
    "# Print the city count to confirm sufficient count\n",
    "len(cities)"
   ]
  },
  {
   "cell_type": "markdown",
   "metadata": {},
   "source": [
    "---"
   ]
  },
  {
   "cell_type": "markdown",
   "metadata": {},
   "source": [
    "## Requirement 1: Create Plots to Showcase the Relationship Between Weather Variables and Latitude\n",
    "\n",
    "### Use the OpenWeatherMap API to retrieve weather data from the cities list generated in the started code"
   ]
  },
  {
   "cell_type": "code",
   "execution_count": 3,
   "metadata": {},
   "outputs": [
    {
     "name": "stdout",
     "output_type": "stream",
     "text": [
      "City processed: airai\n",
      "City processed: mataura\n",
      "City processed: dikson\n",
      "City processed: luderitz\n",
      "City processed: mount gambier\n",
      "City processed: bambous virieux\n",
      "City processed: maragogi\n",
      "City processed: portland\n",
      "City processed: mangai\n",
      "City processed: kavieng\n",
      "City processed: tiszasuly\n",
      "City processed: tuktoyaktuk\n",
      "City processed: leningradskiy\n",
      "City processed: manokwari\n",
      "City processed: jamestown\n",
      "City processed: avarua\n",
      "City processed: albany\n",
      "City processed: asahikawa\n",
      "City processed: yozgat\n",
      "City processed: ushuaia\n",
      "City processed: borba\n",
      "City processed: mastung\n",
      "City processed: tourlaville\n",
      "City processed: fairbanks\n",
      "City processed: punta arenas\n",
      "City processed: carnarvon\n",
      "City NOT found: taolanaro\n",
      "City processed: marsh harbour\n",
      "City processed: sao joao da barra\n",
      "City processed: shingu\n",
      "City processed: sinnamary\n",
      "City processed: langxiang\n",
      "City processed: ponta do sol\n",
      "City processed: araouane\n",
      "City processed: kapaa\n",
      "City processed: tiksi\n",
      "City processed: nhulunbuy\n",
      "City processed: vaini\n",
      "City processed: hun\n",
      "City processed: rikitea\n",
      "City processed: ahipara\n",
      "City processed: atakpame\n",
      "City processed: chuy\n",
      "City processed: quelimane\n",
      "City processed: cape town\n",
      "City processed: petropavlovsk-kamchatskiy\n",
      "City processed: qaanaaq\n",
      "City NOT found: attawapiskat\n",
      "City processed: bubaque\n",
      "City processed: olafsvik\n",
      "City processed: lahad datu\n",
      "City processed: bratsk\n",
      "City processed: iqaluit\n",
      "City processed: saint-philippe\n",
      "City processed: dongsheng\n",
      "City processed: grand gaube\n",
      "City processed: arraial do cabo\n",
      "City processed: cherskiy\n",
      "City processed: bredasdorp\n",
      "City NOT found: barentsburg\n",
      "City processed: bandarbeyla\n",
      "City processed: esperance\n",
      "City processed: mitsamiouli\n",
      "City processed: paulista\n",
      "City processed: magalia\n",
      "City processed: hobyo\n",
      "City processed: atar\n",
      "City processed: taguatinga\n",
      "City processed: victoria\n",
      "City processed: tamandare\n",
      "City processed: lompoc\n",
      "City processed: port alfred\n",
      "City processed: tsumeb\n",
      "City processed: am timan\n",
      "City processed: chokurdakh\n",
      "City processed: coromandel\n",
      "City processed: xichang\n",
      "City processed: asfi\n",
      "City processed: busselton\n",
      "City processed: atuona\n",
      "City processed: eskil\n",
      "City processed: muhos\n",
      "City processed: sao gabriel da cachoeira\n",
      "City processed: butaritari\n",
      "City processed: cayenne\n",
      "City processed: vestmannaeyjar\n",
      "City processed: hermanus\n",
      "City processed: port blair\n",
      "City processed: mar del plata\n",
      "City processed: zhengjiatun\n",
      "City processed: cine\n",
      "City processed: zapolyarnyy\n",
      "City processed: karratha\n",
      "City processed: puerto ayora\n",
      "City processed: khatanga\n",
      "City processed: ribeira grande\n",
      "City processed: norman wells\n",
      "City processed: creston\n",
      "City processed: lavrentiya\n",
      "City processed: bilma\n",
      "City processed: port hardy\n",
      "City processed: batouri\n",
      "City NOT found: vaitupu\n",
      "City NOT found: cumaribo\n",
      "City NOT found: belushya guba\n",
      "City processed: avila\n",
      "City processed: payakumbuh\n",
      "City NOT found: tabiauea\n",
      "City processed: keetmanshoop\n",
      "City processed: hobart\n",
      "City processed: port-gentil\n",
      "City processed: east london\n",
      "City processed: port elizabeth\n",
      "City processed: oranjemund\n",
      "City processed: torbay\n",
      "City processed: georgetown\n",
      "City processed: kaitangata\n",
      "City processed: fez\n",
      "City processed: castro\n",
      "City processed: guerrero negro\n",
      "City NOT found: mys shmidta\n",
      "City processed: hilo\n",
      "City processed: katsuura\n",
      "City processed: sidi ali\n",
      "City processed: raudeberg\n",
      "City processed: mpraeso\n",
      "City NOT found: umzimvubu\n",
      "City processed: pingshan\n",
      "City processed: la suiza\n",
      "City processed: riverbank\n",
      "City processed: sao filipe\n",
      "City processed: broome\n",
      "City processed: grindavik\n",
      "City processed: barrow\n",
      "City processed: barcelos\n",
      "City processed: luanda\n",
      "City processed: cumberland\n",
      "City processed: cruz alta\n",
      "City processed: richards bay\n",
      "City processed: bereda\n",
      "City processed: tecoanapa\n",
      "City processed: constitucion\n",
      "City processed: pevek\n",
      "City processed: les cayes\n",
      "City processed: bongandanga\n",
      "City processed: pindwara\n",
      "City processed: ambilobe\n",
      "City processed: high rock\n",
      "City processed: katherine\n",
      "City NOT found: puunsi\n",
      "City processed: ballina\n",
      "City processed: dudinka\n",
      "City processed: karabuk\n",
      "City processed: hasaki\n",
      "City processed: rio gallegos\n",
      "City processed: vardo\n",
      "City processed: vila velha\n",
      "City processed: young\n",
      "City processed: harper\n",
      "City processed: gizo\n",
      "City processed: samarai\n",
      "City processed: kahului\n",
      "City processed: longyearbyen\n",
      "City processed: tatarsk\n",
      "City processed: itarema\n",
      "City processed: tasiilaq\n",
      "City processed: severo-kurilsk\n",
      "City processed: saldanha\n",
      "City processed: nantucket\n",
      "City processed: magadi\n",
      "City processed: launceston\n",
      "City processed: hong gai\n",
      "City processed: hithadhoo\n",
      "City processed: mogadishu\n",
      "City processed: hervey bay\n",
      "City processed: falam\n",
      "City processed: namatanai\n",
      "City processed: rosendal\n",
      "City processed: eloy\n",
      "City processed: dovers\n",
      "City processed: bethel\n",
      "City processed: podporozhye\n",
      "City processed: werda\n",
      "City processed: faanui\n",
      "City processed: casablanca\n",
      "City processed: yagodnoye\n",
      "City processed: saskylakh\n",
      "City processed: chivilcoy\n",
      "City processed: charters towers\n",
      "City processed: pisco\n",
      "City processed: mahebourg\n",
      "City processed: kanungu\n",
      "City processed: hovd\n",
      "City processed: zyryanka\n",
      "City processed: lasa\n",
      "City processed: talnakh\n",
      "City processed: kutum\n",
      "City processed: bambanglipuro\n",
      "City NOT found: illoqqortoormiut\n",
      "City processed: bluff\n",
      "City processed: alofi\n",
      "City processed: kodiak\n",
      "City processed: ostrovnoy\n",
      "City processed: amuntai\n",
      "City NOT found: samusu\n",
      "City processed: seoul\n",
      "City processed: flinders\n",
      "City processed: nouakchott\n",
      "City processed: nassau\n",
      "City processed: hofn\n",
      "City processed: tricase\n",
      "City NOT found: qafsah\n",
      "City processed: beringovskiy\n",
      "City processed: edson\n",
      "City processed: san patricio\n",
      "City processed: gunjur\n",
      "City processed: lagoa\n",
      "City processed: muktsar\n",
      "City processed: waddan\n",
      "City processed: landsmeer\n",
      "City NOT found: cape elizabeth\n",
      "City processed: malibu\n",
      "City processed: anton lizardo\n",
      "City processed: fort nelson\n",
      "City processed: khor\n",
      "City processed: thompson\n",
      "City processed: elmadag\n",
      "City processed: egvekinot\n",
      "City processed: acajutla\n",
      "City processed: caravelas\n",
      "City processed: sept-iles\n",
      "City processed: gurupi\n",
      "City processed: tura\n",
      "City processed: morondava\n",
      "City processed: bengkulu\n",
      "City processed: vao\n",
      "City processed: xining\n",
      "City processed: wawa\n",
      "City processed: belyy yar\n",
      "City processed: verkhnetulomskiy\n",
      "City processed: black river\n",
      "City processed: leeuwarden\n",
      "City processed: roswell\n",
      "City processed: mehamn\n",
      "City processed: pemangkat\n",
      "City processed: dekar\n",
      "City processed: terney\n",
      "City processed: los llanos de aridane\n",
      "City processed: christchurch\n",
      "City processed: naze\n",
      "City processed: isla vista\n",
      "City processed: makubetsu\n",
      "City processed: salalah\n",
      "City processed: sambava\n",
      "City processed: lorengau\n",
      "City processed: little current\n",
      "City processed: solnechnyy\n",
      "City processed: suarez\n",
      "City processed: nikolskoye\n",
      "City processed: marawi\n",
      "City processed: stephenville\n",
      "City processed: upernavik\n",
      "City processed: ovalle\n",
      "City NOT found: tawzar\n",
      "City processed: antibes\n",
      "City processed: nanortalik\n",
      "City processed: praia\n",
      "City processed: bathsheba\n",
      "City processed: boa vista\n",
      "City processed: arlit\n",
      "City processed: new norfolk\n",
      "City processed: presidente medici\n",
      "City processed: matara\n",
      "City processed: ruteng\n",
      "City processed: yellowknife\n",
      "City processed: novoagansk\n",
      "City processed: antalaha\n",
      "City processed: jacarei\n",
      "City processed: sahuaripa\n",
      "City NOT found: toliary\n",
      "City processed: acapulco\n",
      "City processed: maniago\n",
      "City processed: kazachinskoye\n",
      "City processed: meridian\n",
      "City processed: nagorsk\n",
      "City processed: eureka\n",
      "City processed: beloha\n",
      "City processed: blackwater\n",
      "City processed: akdepe\n",
      "City NOT found: nam tha\n",
      "City processed: palana\n",
      "City processed: poros\n",
      "City NOT found: nizhneyansk\n",
      "City processed: mayor pablo lagerenza\n",
      "City processed: san quintin\n",
      "City processed: effingham\n",
      "City processed: pahrump\n",
      "City processed: esil\n",
      "City processed: capinopolis\n",
      "City processed: thohoyandou\n",
      "City processed: sal rei\n",
      "City processed: geraldton\n",
      "City processed: provideniya\n",
      "City processed: bangkalan\n",
      "City processed: wellington\n",
      "City processed: teahupoo\n",
      "City processed: sovetskiy\n",
      "City NOT found: zolotinka\n",
      "City processed: marsa matruh\n",
      "City processed: vila franca do campo\n",
      "City processed: lebu\n",
      "City processed: kailua\n",
      "City processed: mount isa\n",
      "City processed: itoman\n",
      "City processed: urumqi\n",
      "City processed: sao jose da coroa grande\n",
      "City processed: narsaq\n",
      "City processed: kirakira\n",
      "City processed: agadir\n",
      "City NOT found: kamenskoye\n",
      "City NOT found: louisbourg\n"
     ]
    },
    {
     "name": "stdout",
     "output_type": "stream",
     "text": [
      "City processed: ancud\n",
      "City processed: baruun-urt\n",
      "City processed: kruisfontein\n",
      "City NOT found: amderma\n",
      "City processed: moron\n",
      "City processed: doha\n",
      "City processed: bhag\n",
      "City processed: neryungri\n",
      "City processed: husavik\n",
      "City processed: berbera\n",
      "City NOT found: paradwip\n",
      "City processed: chernyshevskiy\n",
      "City processed: asau\n",
      "City processed: taltal\n",
      "City processed: otane\n",
      "City processed: san cristobal\n",
      "City processed: tizimin\n",
      "City processed: pangai\n",
      "City processed: lahaina\n",
      "City processed: valparaiso\n",
      "City NOT found: saleaula\n",
      "City processed: iberia\n",
      "City processed: gwadar\n",
      "City processed: kaniama\n",
      "City NOT found: tsihombe\n",
      "City processed: conceicao do araguaia\n",
      "City processed: rostovka\n",
      "City processed: praia da vitoria\n",
      "City processed: shadrinsk\n",
      "City processed: tabat\n",
      "City processed: adrar\n",
      "City processed: svetlogorsk\n",
      "City NOT found: palabuhanratu\n",
      "City processed: ponta delgada\n",
      "City processed: quatre cocos\n",
      "City processed: tuatapere\n",
      "City processed: port hawkesbury\n",
      "City processed: flin flon\n",
      "City processed: poso\n",
      "City processed: vila\n",
      "City processed: verkhniy avzyan\n",
      "City processed: troitskaya\n",
      "City NOT found: kuche\n",
      "City processed: huamachuco\n",
      "City processed: sitka\n",
      "City processed: yulara\n",
      "City processed: tabou\n",
      "City processed: sibolga\n",
      "City processed: kalabo\n",
      "City processed: nouadhibou\n",
      "City processed: cobija\n",
      "City processed: alpena\n",
      "City processed: kalaleh\n",
      "City processed: buala\n",
      "City processed: paamiut\n",
      "City processed: paso de patria\n",
      "City processed: virginia beach\n",
      "City processed: kayes\n",
      "City processed: mata\n",
      "City processed: tommot\n",
      "City processed: ostersund\n",
      "City processed: joshimath\n",
      "City processed: ryotsu\n",
      "City processed: luau\n",
      "City processed: abu zabad\n",
      "City NOT found: rungata\n",
      "City processed: puri\n",
      "City processed: togur\n",
      "City processed: piacabucu\n",
      "City processed: baie-comeau\n",
      "City processed: whyalla\n",
      "City processed: aquiraz\n",
      "City processed: saint-paul\n",
      "City processed: kropotkin\n",
      "City processed: sola\n",
      "City processed: bay roberts\n",
      "City processed: kokoda\n",
      "City processed: yarkovo\n",
      "City processed: sao sebastiao\n",
      "City processed: ibra\n",
      "City processed: kathu\n",
      "City processed: haines junction\n",
      "City processed: acapetahua\n",
      "City NOT found: asayita\n",
      "City NOT found: kegayli\n",
      "City NOT found: opobo\n",
      "City processed: russell\n",
      "City processed: pacific grove\n",
      "City processed: yelatma\n",
      "City processed: santiago de cao\n",
      "City processed: grenville\n",
      "City processed: fomboni\n",
      "City NOT found: ye\n",
      "City processed: waipawa\n",
      "City processed: padang\n",
      "City processed: manapparai\n",
      "City processed: balabac\n",
      "City processed: samarina\n",
      "City processed: verkhnevilyuysk\n",
      "City NOT found: grand river south east\n",
      "City processed: yizheng\n",
      "City processed: arman\n",
      "City processed: saint-georges\n",
      "City processed: pitkyaranta\n",
      "City processed: alenquer\n",
      "City processed: price\n",
      "City processed: campbell river\n",
      "City processed: ust-tsilma\n",
      "City processed: aleksandrov gay\n",
      "City processed: port lincoln\n",
      "City processed: turukhansk\n",
      "City processed: la ronge\n",
      "City processed: alta floresta\n",
      "City processed: norton\n",
      "City processed: hamilton\n",
      "City processed: cap malheureux\n",
      "City processed: dingle\n",
      "City processed: sindor\n",
      "City processed: sarangani\n",
      "City processed: thyboron\n",
      "City processed: sosua\n",
      "City processed: amursk\n",
      "City processed: coquimbo\n",
      "City processed: lihula\n",
      "City NOT found: afmadu\n",
      "City processed: ayan\n",
      "City processed: malakal\n",
      "City processed: marshall\n",
      "City processed: katobu\n",
      "City processed: nome\n",
      "City processed: aklavik\n",
      "City NOT found: tumannyy\n",
      "City processed: carmen\n",
      "City processed: tarko-sale\n",
      "City NOT found: dujuma\n",
      "City processed: lensk\n",
      "City processed: jaru\n",
      "City processed: bati\n",
      "City NOT found: shkotovo-26\n",
      "City processed: estevan\n",
      "City processed: pakaur\n",
      "City processed: santa cruz\n",
      "City processed: bayshore gardens\n",
      "City processed: genhe\n",
      "City NOT found: solovetskiy\n",
      "City processed: chicama\n",
      "City processed: manta\n",
      "City processed: daru\n",
      "City processed: vanavara\n",
      "City processed: kapra\n",
      "City processed: saint-joseph\n",
      "City processed: koumac\n",
      "City processed: margate\n",
      "City processed: panlaitan\n",
      "City processed: watertown\n",
      "City processed: jalor\n",
      "City NOT found: ruatoria\n",
      "City processed: puerto baquerizo moreno\n",
      "City processed: sakakah\n",
      "City NOT found: tabialan\n",
      "City processed: souillac\n",
      "City processed: pinega\n",
      "City processed: millinocket\n",
      "City processed: voi\n",
      "City NOT found: geresk\n",
      "City processed: mandalgovi\n",
      "City processed: iseyin\n",
      "City processed: mogocha\n",
      "City processed: aksarka\n",
      "City processed: bud\n",
      "City NOT found: samalaeulu\n",
      "City processed: wiarton\n",
      "City processed: jumla\n",
      "City processed: sao felix do xingu\n",
      "City processed: cockburn town\n",
      "City processed: mojo\n",
      "City processed: henties bay\n",
      "City processed: meulaboh\n",
      "City processed: acarau\n",
      "City processed: college\n",
      "City processed: kilrush\n",
      "City processed: caraz\n",
      "City processed: khandbari\n",
      "City processed: clyde river\n",
      "City processed: sicuani\n",
      "City processed: keflavik\n",
      "City processed: riyadh\n",
      "City processed: saint george\n",
      "City processed: muros\n",
      "City processed: goderich\n",
      "City processed: kamen-rybolov\n",
      "City processed: porbandar\n",
      "City processed: pacifica\n",
      "City processed: rocky mountain house\n",
      "City processed: leshukonskoye\n",
      "City processed: palmer\n",
      "City processed: hami\n",
      "City processed: danjiangkou\n",
      "City processed: kafue\n",
      "City processed: ust-nera\n",
      "City processed: stuttgart\n",
      "City processed: isangel\n",
      "City processed: luganville\n",
      "City processed: ola\n",
      "City NOT found: mergui\n",
      "City processed: otofuke\n",
      "City processed: igarka\n",
      "City processed: kitui\n",
      "City processed: kerman\n",
      "City processed: machinga\n",
      "City processed: san andres\n",
      "City processed: cabo san lucas\n",
      "City processed: mayya\n",
      "City processed: bichena\n",
      "City processed: kalevala\n",
      "City processed: ketchikan\n",
      "City processed: nagod\n",
      "City processed: korla\n",
      "City NOT found: labutta\n",
      "City processed: inyonga\n",
      "City processed: touros\n",
      "City NOT found: atka\n",
      "City processed: rio cuarto\n",
      "City processed: kashary\n",
      "City processed: yerbogachen\n",
      "City NOT found: sentyabrskiy\n",
      "City processed: bossangoa\n",
      "City processed: abatskoye\n",
      "City processed: silale\n",
      "City processed: faya\n",
      "City NOT found: haibowan\n",
      "City processed: sisimiut\n",
      "City processed: ulaangom\n",
      "City processed: jining\n",
      "City processed: fasa\n",
      "City processed: matagami\n",
      "City processed: pervoye maya\n",
      "City processed: salamiyah\n",
      "City processed: abu kamal\n",
      "City processed: mobaye\n",
      "City processed: hammerfest\n",
      "City processed: quepos\n",
      "City processed: brae\n",
      "City processed: arklow\n",
      "City processed: marzuq\n",
      "City processed: dicabisagan\n",
      "City processed: kultuk\n",
      "City processed: kingman\n",
      "City processed: szczecin\n",
      "City processed: umm kaddadah\n",
      "City processed: inhambane\n",
      "City processed: batangafo\n",
      "City processed: zavet\n",
      "City processed: vulcana bai\n",
      "City processed: oranjestad\n",
      "City processed: bayonet point\n",
      "City processed: darnah\n",
      "City processed: arawa\n",
      "City processed: changchun\n",
      "City NOT found: ust-kamchatsk\n",
      "City processed: codrington\n",
      "City NOT found: chikoy\n",
      "City processed: hualmay\n",
      "City processed: makakilo city\n",
      "City processed: yongzhou\n",
      "City processed: hellin\n",
      "City processed: banapur\n",
      "City processed: ermelo\n",
      "City processed: damara\n",
      "City processed: nizwa\n",
      "City processed: jaciara\n",
      "City processed: shahdadkot\n",
      "City processed: bela\n",
      "City processed: elban\n",
      "City processed: san rafael del sur\n",
      "City processed: monywa\n",
      "City processed: uaua\n",
      "City processed: martapura\n",
      "City processed: shelton\n",
      "City processed: belmira\n",
      "City processed: ucluelet\n",
      "City NOT found: chaa-khol\n",
      "City NOT found: rawannawi\n",
      "City processed: vinkovci\n",
      "City processed: oga\n",
      "City processed: salinopolis\n",
      "City processed: plettenberg bay\n",
      "City processed: xunchang\n",
      "City processed: umba\n",
      "City processed: thurso\n",
      "City processed: sao joaquim\n",
      "City processed: bahia blanca\n",
      "City processed: jimenez\n",
      "City processed: sciacca\n",
      "City processed: outjo\n",
      "City processed: kudahuvadhoo\n",
      "City processed: miramar\n",
      "City processed: bombay\n",
      "City processed: odweyne\n",
      "City processed: kaeo\n",
      "City processed: okha\n",
      "City processed: raton\n",
      "City processed: ilulissat\n",
      "City processed: mandera\n",
      "City processed: saint anthony\n",
      "City processed: killybegs\n",
      "City processed: cervo\n",
      "City processed: evensk\n",
      "City processed: peleduy\n",
      "City processed: bitung\n",
      "City processed: porto walter\n",
      "City processed: west bay\n",
      "City processed: ribeira brava\n",
      "City processed: shubarkuduk\n",
      "City NOT found: lolua\n",
      "City processed: verkhoyansk\n",
      "City processed: maxixe\n",
      "City processed: sistranda\n",
      "City processed: bali chak\n",
      "City processed: kholodnyy\n",
      "City processed: sonari\n",
      "City processed: mareeba\n",
      "City processed: alepe\n",
      "City processed: lohja\n",
      "City processed: miechow\n"
     ]
    }
   ],
   "source": [
    "#create url for query with imperial units and city at the end\n",
    "#url from https://openweathermap.org/appid\n",
    "url = \"http://api.openweathermap.org/data/2.5/weather?id=524901\"\n",
    "unit = \"imperial\"\n",
    "query_url = f\"{url}&appid={weather_api_key}&units={unit}&q=\"\n",
    "\n",
    "# Lists for results\n",
    "lat = []\n",
    "lon = []\n",
    "foundCities = []\n",
    "temp = []\n",
    "humidity = []\n",
    "cloudiness = []\n",
    "windSpeed = []\n",
    "date = []\n",
    "country = []\n",
    "\n",
    "for city in cities:\n",
    "    try:\n",
    "        response = requests.get(query_url + city).json()\n",
    "        lat.append(response[\"coord\"][\"lat\"])\n",
    "        lon.append(response[\"coord\"][\"lon\"])\n",
    "        temp.append(response[\"main\"][\"temp_max\"])\n",
    "        humidity.append(response[\"main\"][\"humidity\"])\n",
    "        cloudiness.append(response[\"clouds\"][\"all\"])\n",
    "        windSpeed.append(response[\"wind\"][\"speed\"])\n",
    "        date.append(response[\"dt\"])\n",
    "        country.append(response[\"sys\"][\"country\"])\n",
    "        foundCities.append(city)\n",
    "        print(f\"City processed: {city}\")\n",
    "    except:\n",
    "        print(f\"City NOT found: {city}\")"
   ]
  },
  {
   "cell_type": "code",
   "execution_count": 4,
   "metadata": {},
   "outputs": [],
   "source": [
    "Weather_DF = pd.DataFrame({\"City\": foundCities,\n",
    "                           \"Country\": country,\n",
    "                           \"Temperature\": temp,\n",
    "                           \"Humidity\": humidity,\n",
    "                           \"Cloudiness\": cloudiness,\n",
    "                           \"Windspeed\":windSpeed,\n",
    "                           \"Latitude\": lat,\n",
    "                           \"Longitude\": lon,\n",
    "                           \"Date\": date\n",
    "                          })"
   ]
  },
  {
   "cell_type": "code",
   "execution_count": 6,
   "metadata": {},
   "outputs": [
    {
     "data": {
      "text/html": [
       "<div>\n",
       "<style scoped>\n",
       "    .dataframe tbody tr th:only-of-type {\n",
       "        vertical-align: middle;\n",
       "    }\n",
       "\n",
       "    .dataframe tbody tr th {\n",
       "        vertical-align: top;\n",
       "    }\n",
       "\n",
       "    .dataframe thead th {\n",
       "        text-align: right;\n",
       "    }\n",
       "</style>\n",
       "<table border=\"1\" class=\"dataframe\">\n",
       "  <thead>\n",
       "    <tr style=\"text-align: right;\">\n",
       "      <th></th>\n",
       "      <th>City</th>\n",
       "      <th>Country</th>\n",
       "      <th>Temperature</th>\n",
       "      <th>Humidity</th>\n",
       "      <th>Cloudiness</th>\n",
       "      <th>Windspeed</th>\n",
       "      <th>Latitude</th>\n",
       "      <th>Longitude</th>\n",
       "      <th>Date</th>\n",
       "    </tr>\n",
       "  </thead>\n",
       "  <tbody>\n",
       "    <tr>\n",
       "      <th>0</th>\n",
       "      <td>airai</td>\n",
       "      <td>TL</td>\n",
       "      <td>60.39</td>\n",
       "      <td>88</td>\n",
       "      <td>100</td>\n",
       "      <td>1.68</td>\n",
       "      <td>-8.9266</td>\n",
       "      <td>125.4092</td>\n",
       "      <td>1673721221</td>\n",
       "    </tr>\n",
       "    <tr>\n",
       "      <th>1</th>\n",
       "      <td>mataura</td>\n",
       "      <td>NZ</td>\n",
       "      <td>54.32</td>\n",
       "      <td>84</td>\n",
       "      <td>7</td>\n",
       "      <td>1.54</td>\n",
       "      <td>-46.1927</td>\n",
       "      <td>168.8643</td>\n",
       "      <td>1673721221</td>\n",
       "    </tr>\n",
       "    <tr>\n",
       "      <th>2</th>\n",
       "      <td>dikson</td>\n",
       "      <td>RU</td>\n",
       "      <td>-34.76</td>\n",
       "      <td>93</td>\n",
       "      <td>16</td>\n",
       "      <td>3.87</td>\n",
       "      <td>73.5069</td>\n",
       "      <td>80.5464</td>\n",
       "      <td>1673721221</td>\n",
       "    </tr>\n",
       "    <tr>\n",
       "      <th>3</th>\n",
       "      <td>luderitz</td>\n",
       "      <td>NA</td>\n",
       "      <td>68.58</td>\n",
       "      <td>67</td>\n",
       "      <td>0</td>\n",
       "      <td>23.17</td>\n",
       "      <td>-26.6481</td>\n",
       "      <td>15.1594</td>\n",
       "      <td>1673721221</td>\n",
       "    </tr>\n",
       "    <tr>\n",
       "      <th>4</th>\n",
       "      <td>mount gambier</td>\n",
       "      <td>AU</td>\n",
       "      <td>59.23</td>\n",
       "      <td>65</td>\n",
       "      <td>100</td>\n",
       "      <td>13.18</td>\n",
       "      <td>-37.8333</td>\n",
       "      <td>140.7667</td>\n",
       "      <td>1673721131</td>\n",
       "    </tr>\n",
       "    <tr>\n",
       "      <th>...</th>\n",
       "      <td>...</td>\n",
       "      <td>...</td>\n",
       "      <td>...</td>\n",
       "      <td>...</td>\n",
       "      <td>...</td>\n",
       "      <td>...</td>\n",
       "      <td>...</td>\n",
       "      <td>...</td>\n",
       "      <td>...</td>\n",
       "    </tr>\n",
       "    <tr>\n",
       "      <th>589</th>\n",
       "      <td>sonari</td>\n",
       "      <td>IN</td>\n",
       "      <td>57.69</td>\n",
       "      <td>82</td>\n",
       "      <td>94</td>\n",
       "      <td>2.93</td>\n",
       "      <td>27.0667</td>\n",
       "      <td>95.0333</td>\n",
       "      <td>1673721398</td>\n",
       "    </tr>\n",
       "    <tr>\n",
       "      <th>590</th>\n",
       "      <td>mareeba</td>\n",
       "      <td>AU</td>\n",
       "      <td>72.45</td>\n",
       "      <td>97</td>\n",
       "      <td>98</td>\n",
       "      <td>2.42</td>\n",
       "      <td>-17.0000</td>\n",
       "      <td>145.4333</td>\n",
       "      <td>1673721399</td>\n",
       "    </tr>\n",
       "    <tr>\n",
       "      <th>591</th>\n",
       "      <td>alepe</td>\n",
       "      <td>CI</td>\n",
       "      <td>84.07</td>\n",
       "      <td>75</td>\n",
       "      <td>5</td>\n",
       "      <td>6.91</td>\n",
       "      <td>5.5004</td>\n",
       "      <td>-3.6631</td>\n",
       "      <td>1673721399</td>\n",
       "    </tr>\n",
       "    <tr>\n",
       "      <th>592</th>\n",
       "      <td>lohja</td>\n",
       "      <td>FI</td>\n",
       "      <td>39.18</td>\n",
       "      <td>100</td>\n",
       "      <td>100</td>\n",
       "      <td>12.68</td>\n",
       "      <td>60.2486</td>\n",
       "      <td>24.0653</td>\n",
       "      <td>1673721399</td>\n",
       "    </tr>\n",
       "    <tr>\n",
       "      <th>593</th>\n",
       "      <td>miechow</td>\n",
       "      <td>PL</td>\n",
       "      <td>42.15</td>\n",
       "      <td>83</td>\n",
       "      <td>100</td>\n",
       "      <td>6.85</td>\n",
       "      <td>50.3565</td>\n",
       "      <td>20.0279</td>\n",
       "      <td>1673721400</td>\n",
       "    </tr>\n",
       "  </tbody>\n",
       "</table>\n",
       "<p>594 rows × 9 columns</p>\n",
       "</div>"
      ],
      "text/plain": [
       "              City Country  Temperature  Humidity  Cloudiness  Windspeed  \\\n",
       "0            airai      TL        60.39        88         100       1.68   \n",
       "1          mataura      NZ        54.32        84           7       1.54   \n",
       "2           dikson      RU       -34.76        93          16       3.87   \n",
       "3         luderitz      NA        68.58        67           0      23.17   \n",
       "4    mount gambier      AU        59.23        65         100      13.18   \n",
       "..             ...     ...          ...       ...         ...        ...   \n",
       "589         sonari      IN        57.69        82          94       2.93   \n",
       "590        mareeba      AU        72.45        97          98       2.42   \n",
       "591          alepe      CI        84.07        75           5       6.91   \n",
       "592          lohja      FI        39.18       100         100      12.68   \n",
       "593        miechow      PL        42.15        83         100       6.85   \n",
       "\n",
       "     Latitude  Longitude        Date  \n",
       "0     -8.9266   125.4092  1673721221  \n",
       "1    -46.1927   168.8643  1673721221  \n",
       "2     73.5069    80.5464  1673721221  \n",
       "3    -26.6481    15.1594  1673721221  \n",
       "4    -37.8333   140.7667  1673721131  \n",
       "..        ...        ...         ...  \n",
       "589   27.0667    95.0333  1673721398  \n",
       "590  -17.0000   145.4333  1673721399  \n",
       "591    5.5004    -3.6631  1673721399  \n",
       "592   60.2486    24.0653  1673721399  \n",
       "593   50.3565    20.0279  1673721400  \n",
       "\n",
       "[594 rows x 9 columns]"
      ]
     },
     "execution_count": 6,
     "metadata": {},
     "output_type": "execute_result"
    }
   ],
   "source": [
    "#Windows desktop path\n",
    "Weather_DF.to_csv('../Starter_Code/starter_code/cities.csv', index = False)\n",
    "#Macbook path\n",
    "#Weather_DF.to_csv(r'/Users/md/Desktop/python-api-challenge/output_data/Cities.csv', index = False)\n",
    "Weather_DF"
   ]
  },
  {
   "cell_type": "code",
   "execution_count": 7,
   "metadata": {},
   "outputs": [
    {
     "data": {
      "text/html": [
       "<div>\n",
       "<style scoped>\n",
       "    .dataframe tbody tr th:only-of-type {\n",
       "        vertical-align: middle;\n",
       "    }\n",
       "\n",
       "    .dataframe tbody tr th {\n",
       "        vertical-align: top;\n",
       "    }\n",
       "\n",
       "    .dataframe thead th {\n",
       "        text-align: right;\n",
       "    }\n",
       "</style>\n",
       "<table border=\"1\" class=\"dataframe\">\n",
       "  <thead>\n",
       "    <tr style=\"text-align: right;\">\n",
       "      <th></th>\n",
       "      <th>City</th>\n",
       "      <th>Country</th>\n",
       "      <th>Temperature</th>\n",
       "      <th>Humidity</th>\n",
       "      <th>Cloudiness</th>\n",
       "      <th>Windspeed</th>\n",
       "      <th>Latitude</th>\n",
       "      <th>Longitude</th>\n",
       "      <th>Date</th>\n",
       "    </tr>\n",
       "  </thead>\n",
       "  <tbody>\n",
       "  </tbody>\n",
       "</table>\n",
       "</div>"
      ],
      "text/plain": [
       "Empty DataFrame\n",
       "Columns: [City, Country, Temperature, Humidity, Cloudiness, Windspeed, Latitude, Longitude, Date]\n",
       "Index: []"
      ]
     },
     "execution_count": 7,
     "metadata": {},
     "output_type": "execute_result"
    }
   ],
   "source": [
    "badHumidityDF = Weather_DF[(Weather_DF['Humidity'] > 100)]\n",
    "badHumidityDF"
   ]
  },
  {
   "cell_type": "code",
   "execution_count": 9,
   "metadata": {},
   "outputs": [
    {
     "data": {
      "text/plain": [
       "Int64Index([], dtype='int64')"
      ]
     },
     "execution_count": 9,
     "metadata": {},
     "output_type": "execute_result"
    }
   ],
   "source": [
    "badHumidityDF.index"
   ]
  },
  {
   "cell_type": "code",
   "execution_count": 11,
   "metadata": {},
   "outputs": [
    {
     "data": {
      "text/html": [
       "<div>\n",
       "<style scoped>\n",
       "    .dataframe tbody tr th:only-of-type {\n",
       "        vertical-align: middle;\n",
       "    }\n",
       "\n",
       "    .dataframe tbody tr th {\n",
       "        vertical-align: top;\n",
       "    }\n",
       "\n",
       "    .dataframe thead th {\n",
       "        text-align: right;\n",
       "    }\n",
       "</style>\n",
       "<table border=\"1\" class=\"dataframe\">\n",
       "  <thead>\n",
       "    <tr style=\"text-align: right;\">\n",
       "      <th></th>\n",
       "      <th>City</th>\n",
       "      <th>Country</th>\n",
       "      <th>Latitude</th>\n",
       "      <th>Temperature</th>\n",
       "      <th>Humidity</th>\n",
       "      <th>Cloudiness</th>\n",
       "      <th>Windspeed</th>\n",
       "      <th>Date</th>\n",
       "    </tr>\n",
       "  </thead>\n",
       "  <tbody>\n",
       "    <tr>\n",
       "      <th>0</th>\n",
       "      <td>airai</td>\n",
       "      <td>TL</td>\n",
       "      <td>-8.9266</td>\n",
       "      <td>60.39</td>\n",
       "      <td>88</td>\n",
       "      <td>100</td>\n",
       "      <td>1.68</td>\n",
       "      <td>1673721221</td>\n",
       "    </tr>\n",
       "    <tr>\n",
       "      <th>1</th>\n",
       "      <td>mataura</td>\n",
       "      <td>NZ</td>\n",
       "      <td>-46.1927</td>\n",
       "      <td>54.32</td>\n",
       "      <td>84</td>\n",
       "      <td>7</td>\n",
       "      <td>1.54</td>\n",
       "      <td>1673721221</td>\n",
       "    </tr>\n",
       "    <tr>\n",
       "      <th>2</th>\n",
       "      <td>dikson</td>\n",
       "      <td>RU</td>\n",
       "      <td>73.5069</td>\n",
       "      <td>-34.76</td>\n",
       "      <td>93</td>\n",
       "      <td>16</td>\n",
       "      <td>3.87</td>\n",
       "      <td>1673721221</td>\n",
       "    </tr>\n",
       "    <tr>\n",
       "      <th>3</th>\n",
       "      <td>luderitz</td>\n",
       "      <td>NA</td>\n",
       "      <td>-26.6481</td>\n",
       "      <td>68.58</td>\n",
       "      <td>67</td>\n",
       "      <td>0</td>\n",
       "      <td>23.17</td>\n",
       "      <td>1673721221</td>\n",
       "    </tr>\n",
       "    <tr>\n",
       "      <th>4</th>\n",
       "      <td>mount gambier</td>\n",
       "      <td>AU</td>\n",
       "      <td>-37.8333</td>\n",
       "      <td>59.23</td>\n",
       "      <td>65</td>\n",
       "      <td>100</td>\n",
       "      <td>13.18</td>\n",
       "      <td>1673721131</td>\n",
       "    </tr>\n",
       "  </tbody>\n",
       "</table>\n",
       "</div>"
      ],
      "text/plain": [
       "            City Country  Latitude  Temperature  Humidity  Cloudiness  \\\n",
       "0          airai      TL   -8.9266        60.39        88         100   \n",
       "1        mataura      NZ  -46.1927        54.32        84           7   \n",
       "2         dikson      RU   73.5069       -34.76        93          16   \n",
       "3       luderitz      NA  -26.6481        68.58        67           0   \n",
       "4  mount gambier      AU  -37.8333        59.23        65         100   \n",
       "\n",
       "   Windspeed        Date  \n",
       "0       1.68  1673721221  \n",
       "1       1.54  1673721221  \n",
       "2       3.87  1673721221  \n",
       "3      23.17  1673721221  \n",
       "4      13.18  1673721131  "
      ]
     },
     "execution_count": 11,
     "metadata": {},
     "output_type": "execute_result"
    }
   ],
   "source": [
    " # Extract relevant fields from the data frame\n",
    "City_Data = Weather_DF[[\"City\",\"Country\", \"Latitude\", \"Temperature\", \"Humidity\", \"Cloudiness\", \"Windspeed\", \"Date\"]]\n",
    "\n",
    "# Export the City_Data into a csv\n",
    "#Windows path\n",
    "City_Data.to_csv('../Starter_Code/starter_code/city.csv', index = False)\n",
    "#Macbook path\n",
    "#City_Data.to_csv(r'/Users/md/Desktop/python-api-challenge/output_data/City_Data.csv', index = False)\n",
    "City_Data.head()"
   ]
  },
  {
   "cell_type": "markdown",
   "metadata": {},
   "source": [
    "### Create the Scatter Plots Requested\n",
    "\n",
    "#### Latitude Vs. Temperature"
   ]
  },
  {
   "cell_type": "code",
   "execution_count": 12,
   "metadata": {
    "tags": []
   },
   "outputs": [
    {
     "data": {
      "image/png": "[encoded data removed]",
      "text/plain": [
       "<Figure size 432x288 with 1 Axes>"
      ]
     },
     "metadata": {
      "needs_background": "light"
     },
     "output_type": "display_data"
    }
   ],
   "source": [
    "#format the max date in the dataset as \"runDate\" for graph titles\n",
    "endRunDate = City_Data[\"Date\"].max()\n",
    "runDate = datetime.utcfromtimestamp(endRunDate).strftime('%Y-%m-%d')\n",
    "\n",
    "#set data to plot\n",
    "x = City_Data[\"Latitude\"]\n",
    "y = City_Data[\"Temperature\"]\n",
    "plt.scatter(x,y)\n",
    "#add gridlines\n",
    "plt.grid()\n",
    "#add titles and axis labels\n",
    "plt.title(f\"Latitude vs Temperature on {runDate}\")\n",
    "plt.xlabel(\"Latitude\")\n",
    "plt.ylabel(\"Temperature (F)\")\n",
    "#export as png\n",
    "plt.savefig(f'../Starter_code/output_data/Latitude vs Temperature on {runDate}.png')\n",
    "#display plot!\n",
    "plt.show()"
   ]
  },
  {
   "cell_type": "markdown",
   "metadata": {},
   "source": [
    "#### Latitude Vs. Humidity"
   ]
  },
  {
   "cell_type": "code",
   "execution_count": 13,
   "metadata": {},
   "outputs": [
    {
     "data": {
      "image/png": "[encoded data removed]",
      "text/plain": [
       "<Figure size 432x288 with 1 Axes>"
      ]
     },
     "metadata": {
      "needs_background": "light"
     },
     "output_type": "display_data"
    }
   ],
   "source": [
    "#set data to plot; retain Latitude from previous plot as \"x\"\n",
    "h = City_Data[\"Humidity\"]\n",
    "plt.scatter(x,h)\n",
    "plt.title(f\"Latitude vs Humidity on {runDate}\")\n",
    "plt.grid()\n",
    "plt.xlabel(\"Latitude\")\n",
    "plt.ylabel(\"Humidity (%)\")\n",
    "plt.savefig(f'../Starter_code/output_data/Latitude vs Humidity on {runDate}.png')\n",
    "plt.show()"
   ]
  },
  {
   "cell_type": "markdown",
   "metadata": {},
   "source": [
    "#### Latitude Vs. Cloudiness"
   ]
  },
  {
   "cell_type": "code",
   "execution_count": 14,
   "metadata": {},
   "outputs": [
    {
     "data": {
      "text/plain": [
       "<function matplotlib.pyplot.show(close=None, block=None)>"
      ]
     },
     "execution_count": 14,
     "metadata": {},
     "output_type": "execute_result"
    },
    {
     "data": {
      "image/png": "[encoded data removed]",
      "text/plain": [
       "<Figure size 432x288 with 1 Axes>"
      ]
     },
     "metadata": {
      "needs_background": "light"
     },
     "output_type": "display_data"
    }
   ],
   "source": [
    "c = City_Data[\"Cloudiness\"]\n",
    "plt.scatter(x,c)\n",
    "plt.title(f\"Latitude vs Cloudiness on {runDate}\")\n",
    "plt.grid()\n",
    "plt.xlabel(\"Latitude\")\n",
    "plt.ylabel(\"Cloudiness (%)\")\n",
    "plt.savefig(f'../Starter_code/output_data/Latitude vs Cloudiness on {runDate}.png')\n",
    "plt.show"
   ]
  },
  {
   "cell_type": "markdown",
   "metadata": {},
   "source": [
    "#### Latitude vs. Wind Speed Plot"
   ]
  },
  {
   "cell_type": "code",
   "execution_count": 15,
   "metadata": {},
   "outputs": [
    {
     "data": {
      "image/png": "[encoded data removed]",
      "text/plain": [
       "<Figure size 432x288 with 1 Axes>"
      ]
     },
     "metadata": {
      "needs_background": "light"
     },
     "output_type": "display_data"
    }
   ],
   "source": [
    "ws = City_Data[\"Windspeed\"]\n",
    "plt.scatter(x,ws)\n",
    "plt.title(f\"Latitude vs Windspeed on {runDate}\")\n",
    "plt.grid()\n",
    "plt.xlabel(\"Latitude\")\n",
    "plt.ylabel(\"Windspeed (mph)\")\n",
    "plt.savefig(f'../Starter_code/output_data/Latitude vs Windspeed on {runDate}.png')\n",
    "plt.show()"
   ]
  },
  {
   "cell_type": "markdown",
   "metadata": {},
   "source": [
    "---\n",
    "\n",
    "## Requirement 2: Compute Linear Regression for Each Relationship\n"
   ]
  },
  {
   "cell_type": "code",
   "execution_count": 16,
   "metadata": {},
   "outputs": [],
   "source": [
    "# Define a function to create Linear Regression plots\n",
    "# YOUR CODE HERE\n",
    "#function to call is \"linearRegression\"\n",
    "#variables are\n",
    "# x_values: first set of data\n",
    "# y_values: second set of data\n",
    "# regEQplotX: where the linear regression equasion appears on the plot x line\n",
    "# regEQplotY: where the linear regression equasion appears on the plot y line\n",
    "# y_label: the y axis label of the plot (x label is always Latitude)\n",
    "\n",
    "def linearRegression(x_values,y_values,regEQplotX,regEQplotY,y_label):\n",
    "    (slope, intercept, rvalue, pvalue, stderr) = linregress(x_values, y_values)\n",
    "    regress_values = x_values * slope + intercept\n",
    "    line_eq = \"y = \" + str(round(slope,2)) + \"x + \" + str(round(intercept,2))\n",
    "    plt.scatter(x_values,y_values)\n",
    "    plt.plot(x_values,regress_values,\"r-\")\n",
    "    print(f'The r-square is {rvalue}')\n",
    "    print(line_eq)\n",
    "    plt.annotate(line_eq,(regEQplotX,regEQplotY),fontsize=15,color=\"red\")\n",
    "    plt.xlabel('Latitude')\n",
    "    plt.ylabel(f'{y_label}')\n",
    "    plt.grid()"
   ]
  },
  {
   "cell_type": "code",
   "execution_count": 17,
   "metadata": {},
   "outputs": [
    {
     "data": {
      "text/html": [
       "<div>\n",
       "<style scoped>\n",
       "    .dataframe tbody tr th:only-of-type {\n",
       "        vertical-align: middle;\n",
       "    }\n",
       "\n",
       "    .dataframe tbody tr th {\n",
       "        vertical-align: top;\n",
       "    }\n",
       "\n",
       "    .dataframe thead th {\n",
       "        text-align: right;\n",
       "    }\n",
       "</style>\n",
       "<table border=\"1\" class=\"dataframe\">\n",
       "  <thead>\n",
       "    <tr style=\"text-align: right;\">\n",
       "      <th></th>\n",
       "      <th>City</th>\n",
       "      <th>Country</th>\n",
       "      <th>Temperature</th>\n",
       "      <th>Humidity</th>\n",
       "      <th>Cloudiness</th>\n",
       "      <th>Windspeed</th>\n",
       "      <th>Latitude</th>\n",
       "      <th>Longitude</th>\n",
       "      <th>Date</th>\n",
       "    </tr>\n",
       "  </thead>\n",
       "  <tbody>\n",
       "    <tr>\n",
       "      <th>2</th>\n",
       "      <td>dikson</td>\n",
       "      <td>RU</td>\n",
       "      <td>-34.76</td>\n",
       "      <td>93</td>\n",
       "      <td>16</td>\n",
       "      <td>3.87</td>\n",
       "      <td>73.5069</td>\n",
       "      <td>80.5464</td>\n",
       "      <td>1673721221</td>\n",
       "    </tr>\n",
       "    <tr>\n",
       "      <th>7</th>\n",
       "      <td>portland</td>\n",
       "      <td>US</td>\n",
       "      <td>50.58</td>\n",
       "      <td>91</td>\n",
       "      <td>75</td>\n",
       "      <td>11.50</td>\n",
       "      <td>45.5234</td>\n",
       "      <td>-122.6762</td>\n",
       "      <td>1673721151</td>\n",
       "    </tr>\n",
       "    <tr>\n",
       "      <th>10</th>\n",
       "      <td>tiszasuly</td>\n",
       "      <td>HU</td>\n",
       "      <td>40.01</td>\n",
       "      <td>88</td>\n",
       "      <td>20</td>\n",
       "      <td>2.98</td>\n",
       "      <td>47.3833</td>\n",
       "      <td>20.4000</td>\n",
       "      <td>1673721223</td>\n",
       "    </tr>\n",
       "    <tr>\n",
       "      <th>11</th>\n",
       "      <td>tuktoyaktuk</td>\n",
       "      <td>CA</td>\n",
       "      <td>-11.20</td>\n",
       "      <td>84</td>\n",
       "      <td>20</td>\n",
       "      <td>6.91</td>\n",
       "      <td>69.4541</td>\n",
       "      <td>-133.0374</td>\n",
       "      <td>1673721223</td>\n",
       "    </tr>\n",
       "    <tr>\n",
       "      <th>12</th>\n",
       "      <td>leningradskiy</td>\n",
       "      <td>RU</td>\n",
       "      <td>-23.73</td>\n",
       "      <td>100</td>\n",
       "      <td>82</td>\n",
       "      <td>3.29</td>\n",
       "      <td>69.3833</td>\n",
       "      <td>178.4167</td>\n",
       "      <td>1673721223</td>\n",
       "    </tr>\n",
       "  </tbody>\n",
       "</table>\n",
       "</div>"
      ],
      "text/plain": [
       "             City Country  Temperature  Humidity  Cloudiness  Windspeed  \\\n",
       "2          dikson      RU       -34.76        93          16       3.87   \n",
       "7        portland      US        50.58        91          75      11.50   \n",
       "10      tiszasuly      HU        40.01        88          20       2.98   \n",
       "11    tuktoyaktuk      CA       -11.20        84          20       6.91   \n",
       "12  leningradskiy      RU       -23.73       100          82       3.29   \n",
       "\n",
       "    Latitude  Longitude        Date  \n",
       "2    73.5069    80.5464  1673721221  \n",
       "7    45.5234  -122.6762  1673721151  \n",
       "10   47.3833    20.4000  1673721223  \n",
       "11   69.4541  -133.0374  1673721223  \n",
       "12   69.3833   178.4167  1673721223  "
      ]
     },
     "execution_count": 17,
     "metadata": {},
     "output_type": "execute_result"
    }
   ],
   "source": [
    "# Create a DataFrame with the Northern Hemisphere data (Latitude >= 0)\n",
    "# YOUR CODE HERE\n",
    "Northern_DF = Weather_DF.loc[Weather_DF[\"Latitude\"] > 0]\n",
    "# Display sample data\n",
    "Northern_DF.head()"
   ]
  },
  {
   "cell_type": "code",
   "execution_count": 18,
   "metadata": {},
   "outputs": [
    {
     "data": {
      "text/html": [
       "<div>\n",
       "<style scoped>\n",
       "    .dataframe tbody tr th:only-of-type {\n",
       "        vertical-align: middle;\n",
       "    }\n",
       "\n",
       "    .dataframe tbody tr th {\n",
       "        vertical-align: top;\n",
       "    }\n",
       "\n",
       "    .dataframe thead th {\n",
       "        text-align: right;\n",
       "    }\n",
       "</style>\n",
       "<table border=\"1\" class=\"dataframe\">\n",
       "  <thead>\n",
       "    <tr style=\"text-align: right;\">\n",
       "      <th></th>\n",
       "      <th>City</th>\n",
       "      <th>Country</th>\n",
       "      <th>Temperature</th>\n",
       "      <th>Humidity</th>\n",
       "      <th>Cloudiness</th>\n",
       "      <th>Windspeed</th>\n",
       "      <th>Latitude</th>\n",
       "      <th>Longitude</th>\n",
       "      <th>Date</th>\n",
       "    </tr>\n",
       "  </thead>\n",
       "  <tbody>\n",
       "    <tr>\n",
       "      <th>0</th>\n",
       "      <td>airai</td>\n",
       "      <td>TL</td>\n",
       "      <td>60.39</td>\n",
       "      <td>88</td>\n",
       "      <td>100</td>\n",
       "      <td>1.68</td>\n",
       "      <td>-8.9266</td>\n",
       "      <td>125.4092</td>\n",
       "      <td>1673721221</td>\n",
       "    </tr>\n",
       "    <tr>\n",
       "      <th>1</th>\n",
       "      <td>mataura</td>\n",
       "      <td>NZ</td>\n",
       "      <td>54.32</td>\n",
       "      <td>84</td>\n",
       "      <td>7</td>\n",
       "      <td>1.54</td>\n",
       "      <td>-46.1927</td>\n",
       "      <td>168.8643</td>\n",
       "      <td>1673721221</td>\n",
       "    </tr>\n",
       "    <tr>\n",
       "      <th>3</th>\n",
       "      <td>luderitz</td>\n",
       "      <td>NA</td>\n",
       "      <td>68.58</td>\n",
       "      <td>67</td>\n",
       "      <td>0</td>\n",
       "      <td>23.17</td>\n",
       "      <td>-26.6481</td>\n",
       "      <td>15.1594</td>\n",
       "      <td>1673721221</td>\n",
       "    </tr>\n",
       "    <tr>\n",
       "      <th>4</th>\n",
       "      <td>mount gambier</td>\n",
       "      <td>AU</td>\n",
       "      <td>59.23</td>\n",
       "      <td>65</td>\n",
       "      <td>100</td>\n",
       "      <td>13.18</td>\n",
       "      <td>-37.8333</td>\n",
       "      <td>140.7667</td>\n",
       "      <td>1673721131</td>\n",
       "    </tr>\n",
       "    <tr>\n",
       "      <th>5</th>\n",
       "      <td>bambous virieux</td>\n",
       "      <td>MU</td>\n",
       "      <td>79.05</td>\n",
       "      <td>78</td>\n",
       "      <td>40</td>\n",
       "      <td>10.36</td>\n",
       "      <td>-20.3428</td>\n",
       "      <td>57.7575</td>\n",
       "      <td>1673721222</td>\n",
       "    </tr>\n",
       "  </tbody>\n",
       "</table>\n",
       "</div>"
      ],
      "text/plain": [
       "              City Country  Temperature  Humidity  Cloudiness  Windspeed  \\\n",
       "0            airai      TL        60.39        88         100       1.68   \n",
       "1          mataura      NZ        54.32        84           7       1.54   \n",
       "3         luderitz      NA        68.58        67           0      23.17   \n",
       "4    mount gambier      AU        59.23        65         100      13.18   \n",
       "5  bambous virieux      MU        79.05        78          40      10.36   \n",
       "\n",
       "   Latitude  Longitude        Date  \n",
       "0   -8.9266   125.4092  1673721221  \n",
       "1  -46.1927   168.8643  1673721221  \n",
       "3  -26.6481    15.1594  1673721221  \n",
       "4  -37.8333   140.7667  1673721131  \n",
       "5  -20.3428    57.7575  1673721222  "
      ]
     },
     "execution_count": 18,
     "metadata": {},
     "output_type": "execute_result"
    }
   ],
   "source": [
    "# Create a DataFrame with the Southern Hemisphere data (Latitude < 0)\n",
    "# YOUR CODE HERE\n",
    "Southern_DF = Weather_DF.loc[Weather_DF[\"Latitude\"] < 0]\n",
    "# Display sample data\n",
    "Southern_DF.head()"
   ]
  },
  {
   "cell_type": "markdown",
   "metadata": {},
   "source": [
    "###  Temperature vs. Latitude Linear Regression Plot"
   ]
  },
  {
   "cell_type": "code",
   "execution_count": 19,
   "metadata": {},
   "outputs": [
    {
     "name": "stdout",
     "output_type": "stream",
     "text": [
      "The r-square is -0.8190455119543304\n",
      "y = -1.43x + 94.07\n"
     ]
    },
    {
     "data": {
      "image/png": "[encoded data removed]",
      "text/plain": [
       "<Figure size 432x288 with 1 Axes>"
      ]
     },
     "metadata": {
      "needs_background": "light"
     },
     "output_type": "display_data"
    }
   ],
   "source": [
    "#set the data sets to compare\n",
    "x_values = Northern_DF[\"Latitude\"]\n",
    "y_values = Northern_DF[\"Temperature\"]\n",
    "#tweak where the equation appears on the plot\n",
    "regEQplotX = 0\n",
    "regEQplotY = 40\n",
    "#label the y axis\n",
    "y_label = \"Temperature (F)\"\n",
    "#give the title\n",
    "plt.title(f'Northern Hemisphere Latitude vs Temp on {runDate}')\n",
    "#run the function with all 5 variables\n",
    "linearRegression(x_values,y_values,regEQplotX,regEQplotY,y_label)\n",
    "#save as a png to the neighboring output_data folder\n",
    "plt.savefig(f'../Starter_code/output_data/Northern Hemisphere Latitude vs Temp on {runDate}.png')\n",
    "plt.show()"
   ]
  },
  {
   "cell_type": "markdown",
   "metadata": {},
   "source": [
    "Response: r square being negative means the variability in the outcome data cannot be explained by the model to almost any degree. Reliabily of data very low."
   ]
  },
  {
   "cell_type": "code",
   "execution_count": 20,
   "metadata": {},
   "outputs": [
    {
     "name": "stdout",
     "output_type": "stream",
     "text": [
      "The r-square is 0.4423276486888299\n",
      "y = 0.32x + 80.95\n"
     ]
    },
    {
     "data": {
      "image/png": "[encoded data removed]",
      "text/plain": [
       "<Figure size 432x288 with 1 Axes>"
      ]
     },
     "metadata": {
      "needs_background": "light"
     },
     "output_type": "display_data"
    }
   ],
   "source": [
    "x_values = Southern_DF[\"Latitude\"]\n",
    "y_values = Southern_DF[\"Temperature\"]\n",
    "regEQplotX = -25\n",
    "regEQplotY = 40\n",
    "y_label = \"Temperature (F)\"\n",
    "plt.title(f'Southern Hemisphere Latitude vs Temp on {runDate}')\n",
    "linearRegression(x_values,y_values,regEQplotX,regEQplotY,y_label)\n",
    "plt.savefig(f'../Starter_code/output_data/Southern Hemisphere Latitude vs Temp on {runDate}.png')\n",
    "plt.show()"
   ]
  },
  {
   "cell_type": "markdown",
   "metadata": {},
   "source": [
    "Response: R square result indicates 66% of the variability in the outcome data cannot be explained by the model. There is somehwat of a weak relationship between latitude and longitude in this case."
   ]
  },
  {
   "cell_type": "markdown",
   "metadata": {},
   "source": [
    "**Discussion about the linear relationship:** YOUR RESPONSE HERE"
   ]
  },
  {
   "cell_type": "markdown",
   "metadata": {},
   "source": [
    "### Humidity vs. Latitude Linear Regression Plot"
   ]
  },
  {
   "cell_type": "code",
   "execution_count": 21,
   "metadata": {},
   "outputs": [
    {
     "name": "stdout",
     "output_type": "stream",
     "text": [
      "The r-square is 0.49257987798223307\n",
      "y = 0.56x + 51.43\n"
     ]
    },
    {
     "data": {
      "image/png": "[encoded data removed]",
      "text/plain": [
       "<Figure size 432x288 with 1 Axes>"
      ]
     },
     "metadata": {
      "needs_background": "light"
     },
     "output_type": "display_data"
    }
   ],
   "source": [
    "x_values = Northern_DF[\"Latitude\"]\n",
    "y_values = Northern_DF[\"Humidity\"]\n",
    "regEQplotX = 45\n",
    "regEQplotY = 15\n",
    "y_label = \"Humidity (%)\"\n",
    "plt.title(f'Northern Hemisphere Latitude vs Humidity on {runDate}')\n",
    "linearRegression(x_values,y_values,regEQplotX,regEQplotY,y_label)\n",
    "plt.savefig(f'../Starter_code/output_data/Northern Hemisphere Latitude vs Humidity on {runDate}.png')\n",
    "plt.show()"
   ]
  },
  {
   "cell_type": "markdown",
   "metadata": {},
   "source": [
    "Response: 50% of the variability in the outcome data cannot be explained by the model. Meaning somewhat of a relationship exists between humidity and latitude but not strong."
   ]
  },
  {
   "cell_type": "code",
   "execution_count": 22,
   "metadata": {},
   "outputs": [
    {
     "name": "stdout",
     "output_type": "stream",
     "text": [
      "The r-square is 0.2361793040041582\n",
      "y = 0.35x + 80.15\n"
     ]
    },
    {
     "data": {
      "image/png": "[encoded data removed]",
      "text/plain": [
       "<Figure size 432x288 with 1 Axes>"
      ]
     },
     "metadata": {
      "needs_background": "light"
     },
     "output_type": "display_data"
    }
   ],
   "source": [
    "x_values = Southern_DF[\"Latitude\"]\n",
    "y_values = Southern_DF[\"Humidity\"]\n",
    "regEQplotX = -55\n",
    "regEQplotY = 35\n",
    "y_label = \"Humidity (%)\"\n",
    "plt.title(f'Southern Hemisphere Latitude vs Humidity on {runDate}')\n",
    "linearRegression(x_values,y_values,regEQplotX,regEQplotY,y_label)\n",
    "plt.savefig(f'../Starter_code/output_data/Southern Hemisphere Latitude vs Humidity on {runDate}.png')\n",
    "plt.show()"
   ]
  },
  {
   "cell_type": "markdown",
   "metadata": {},
   "source": [
    "Response: 23% of the variability in the outcome data can be explained by the model. Almost no relationship exists between humidity and latitude."
   ]
  },
  {
   "cell_type": "markdown",
   "metadata": {},
   "source": [
    "**Discussion about the linear relationship:** YOUR RESPONSE HERE"
   ]
  },
  {
   "cell_type": "markdown",
   "metadata": {},
   "source": [
    "### Cloudiness vs. Latitude Linear Regression Plot"
   ]
  },
  {
   "cell_type": "code",
   "execution_count": 23,
   "metadata": {},
   "outputs": [
    {
     "name": "stdout",
     "output_type": "stream",
     "text": [
      "The r-square is 0.33387412853058507\n",
      "y = 0.7x + 31.42\n"
     ]
    },
    {
     "data": {
      "image/png": "[encoded data removed]",
      "text/plain": [
       "<Figure size 432x288 with 1 Axes>"
      ]
     },
     "metadata": {
      "needs_background": "light"
     },
     "output_type": "display_data"
    }
   ],
   "source": [
    "x_values = Northern_DF[\"Latitude\"]\n",
    "y_values = Northern_DF[\"Cloudiness\"]\n",
    "regEQplotX = 0\n",
    "regEQplotY = 25\n",
    "y_label = \"Cloudiness (%)\"\n",
    "plt.title(f'Northern Hemisphere Latitude vs Cloudiness on {runDate}')\n",
    "linearRegression(x_values,y_values,regEQplotX,regEQplotY,y_label)\n",
    "plt.savefig(f'../Starter_code/output_data/Northern Hemisphere Latitude vs Cloudiness on {runDate}.png')\n",
    "plt.show()"
   ]
  },
  {
   "cell_type": "markdown",
   "metadata": {},
   "source": [
    "Response: 76% of the variability in the outcome data can't be explained by the model. Almost no relationship exists between cloudiness and latitude."
   ]
  },
  {
   "cell_type": "code",
   "execution_count": 24,
   "metadata": {},
   "outputs": [
    {
     "name": "stdout",
     "output_type": "stream",
     "text": [
      "The r-square is 0.4593831227946152\n",
      "y = 1.42x + 87.81\n"
     ]
    },
    {
     "data": {
      "image/png": "[encoded data removed]",
      "text/plain": [
       "<Figure size 432x288 with 1 Axes>"
      ]
     },
     "metadata": {
      "needs_background": "light"
     },
     "output_type": "display_data"
    }
   ],
   "source": [
    "x_values = Southern_DF[\"Latitude\"]\n",
    "y_values = Southern_DF[\"Cloudiness\"]\n",
    "regEQplotX = -55\n",
    "regEQplotY = 60\n",
    "y_label = \"Cloudiness (%)\"\n",
    "plt.title(f'Southern Hemisphere Latitude vs Cloudiness on {runDate}')\n",
    "linearRegression(x_values,y_values,regEQplotX,regEQplotY,y_label)\n",
    "plt.savefig(f'../Starter_code/output_data/Southern Hemisphere Latitude vs Cloudiness on {runDate}.png')\n",
    "plt.show()"
   ]
  },
  {
   "cell_type": "markdown",
   "metadata": {},
   "source": [
    "Response: 55% of the variability in the outcome data can't be explained by the model. Weak relationship exists between cloudiness and latitude."
   ]
  },
  {
   "cell_type": "markdown",
   "metadata": {},
   "source": [
    "**Discussion about the linear relationship:** YOUR RESPONSE HERE"
   ]
  },
  {
   "cell_type": "markdown",
   "metadata": {},
   "source": [
    "### Wind Speed vs. Latitude Linear Regression Plot"
   ]
  },
  {
   "cell_type": "code",
   "execution_count": 25,
   "metadata": {},
   "outputs": [
    {
     "name": "stdout",
     "output_type": "stream",
     "text": [
      "The r-square is 0.08747229772016281\n",
      "y = 0.03x + 7.61\n"
     ]
    },
    {
     "data": {
      "image/png": "[encoded data removed]",
      "text/plain": [
       "<Figure size 432x288 with 1 Axes>"
      ]
     },
     "metadata": {
      "needs_background": "light"
     },
     "output_type": "display_data"
    }
   ],
   "source": [
    "# Northern Hemisphere\n",
    "# YOUR CODE HERE\n",
    "x_values = Northern_DF[\"Latitude\"]\n",
    "y_values = Northern_DF[\"Windspeed\"]\n",
    "regEQplotX = 35\n",
    "regEQplotY = 25\n",
    "y_label = \"Wind Speed (MPH)\"\n",
    "plt.title(f'Northern Hemisphere Latitude vs Wind Speed on {runDate}')\n",
    "linearRegression(x_values,y_values,regEQplotX,regEQplotY,y_label)\n",
    "plt.savefig(f'../Starter_code/output_data/Northern Hemisphere Latitude vs Wind Speed on {runDate}.png')\n",
    "plt.show()"
   ]
  },
  {
   "cell_type": "markdown",
   "metadata": {},
   "source": [
    "Response: relationship between wind speed and latitude almost inexistent and can only be explained by less than 10% of the data."
   ]
  },
  {
   "cell_type": "code",
   "execution_count": 26,
   "metadata": {},
   "outputs": [
    {
     "name": "stdout",
     "output_type": "stream",
     "text": [
      "The r-square is -0.21248715932177692\n",
      "y = -0.1x + 6.17\n"
     ]
    },
    {
     "data": {
      "image/png": "[encoded data removed]",
      "text/plain": [
       "<Figure size 432x288 with 1 Axes>"
      ]
     },
     "metadata": {
      "needs_background": "light"
     },
     "output_type": "display_data"
    }
   ],
   "source": [
    "# Southern Hemisphere\n",
    "# YOUR CODE HERE\n",
    "x_values = Southern_DF[\"Latitude\"]\n",
    "y_values = Southern_DF[\"Windspeed\"]\n",
    "regEQplotX = -50\n",
    "regEQplotY = 25\n",
    "y_label = \"Wind Speed (MPH)\"\n",
    "plt.title(f'Southern Hemisphere Latitude vs Wind Speed on {runDate}')\n",
    "linearRegression(x_values,y_values,regEQplotX,regEQplotY,y_label)\n",
    "plt.savefig(f'../Starter_code/output_data/Southern Hemisphere Latitude vs Wind Speed on {runDate}.png')\n",
    "plt.show()"
   ]
  },
  {
   "cell_type": "markdown",
   "metadata": {},
   "source": [
    "**Discussion about the linear relationship:** YOUR RESPONSE HERE"
   ]
  },
  {
   "cell_type": "markdown",
   "metadata": {},
   "source": [
    "Result: reliabily of data very low due to negative r square value. Meaninf it is more porbable other factors have infulence or relationship to Wind speed and latitude "
   ]
  },
  {
   "cell_type": "code",
   "execution_count": null,
   "metadata": {},
   "outputs": [],
   "source": []
  },
  {
   "cell_type": "code",
   "execution_count": null,
   "metadata": {},
   "outputs": [],
   "source": []
  },
  {
   "cell_type": "code",
   "execution_count": null,
   "metadata": {},
   "outputs": [],
   "source": []
  },
  {
   "cell_type": "code",
   "execution_count": null,
   "metadata": {},
   "outputs": [],
   "source": []
  }
 ],
 "metadata": {
  "anaconda-cloud": {},
  "kernel_info": {
   "name": "python3"
  },
  "kernelspec": {
   "display_name": "Python 3 (ipykernel)",
   "language": "python",
   "name": "python3"
  },
  "language_info": {
   "codemirror_mode": {
    "name": "ipython",
    "version": 3
   },
   "file_extension": ".py",
   "mimetype": "text/x-python",
   "name": "python",
   "nbconvert_exporter": "python",
   "pygments_lexer": "ipython3",
   "version": "3.9.12"
  },
  "latex_envs": {
   "LaTeX_envs_menu_present": true,
   "autoclose": false,
   "autocomplete": true,
   "bibliofile": "biblio.bib",
   "cite_by": "apalike",
   "current_citInitial": 1,
   "eqLabelWithNumbers": true,
   "eqNumInitial": 1,
   "hotkeys": {
    "equation": "Ctrl-E",
    "itemize": "Ctrl-I"
   },
   "labels_anchors": false,
   "latex_user_defs": false,
   "report_style_numbering": false,
   "user_envs_cfg": false
  },
  "nteract": {
   "version": "0.12.3"
  }
 },
 "nbformat": 4,
 "nbformat_minor": 4
}
